{
 "cells": [
  {
   "cell_type": "code",
   "execution_count": 2,
   "metadata": {},
   "outputs": [
    {
     "name": "stdout",
     "output_type": "stream",
     "text": [
      "Requirement already satisfied: geos in /Users/yangfeilin/opt/anaconda3/lib/python3.7/site-packages (0.2.2)\n",
      "Requirement already satisfied: lxml in /Users/yangfeilin/opt/anaconda3/lib/python3.7/site-packages (from geos) (4.4.1)\n",
      "Requirement already satisfied: pillow in /Users/yangfeilin/opt/anaconda3/lib/python3.7/site-packages (from geos) (6.2.0)\n",
      "Requirement already satisfied: flask in /Users/yangfeilin/opt/anaconda3/lib/python3.7/site-packages (from geos) (1.1.1)\n",
      "Requirement already satisfied: Werkzeug>=0.15 in /Users/yangfeilin/opt/anaconda3/lib/python3.7/site-packages (from flask->geos) (0.16.0)\n",
      "Requirement already satisfied: click>=5.1 in /Users/yangfeilin/opt/anaconda3/lib/python3.7/site-packages (from flask->geos) (7.0)\n",
      "Requirement already satisfied: itsdangerous>=0.24 in /Users/yangfeilin/opt/anaconda3/lib/python3.7/site-packages (from flask->geos) (1.1.0)\n",
      "Requirement already satisfied: Jinja2>=2.10.1 in /Users/yangfeilin/opt/anaconda3/lib/python3.7/site-packages (from flask->geos) (2.10.3)\n",
      "Requirement already satisfied: MarkupSafe>=0.23 in /Users/yangfeilin/opt/anaconda3/lib/python3.7/site-packages (from Jinja2>=2.10.1->flask->geos) (1.1.1)\n",
      "Note: you may need to restart the kernel to use updated packages.\n"
     ]
    }
   ],
   "source": [
    "pip install geos"
   ]
  },
  {
   "cell_type": "code",
   "execution_count": 3,
   "metadata": {},
   "outputs": [
    {
     "name": "stdout",
     "output_type": "stream",
     "text": [
      "\u001b[31mERROR: Could not find a version that satisfies the requirement malplotlib==3.2 (from versions: none)\u001b[0m\u001b[31m\n",
      "\u001b[0m\u001b[31mERROR: No matching distribution found for malplotlib==3.2\u001b[0m\u001b[31m\n",
      "\u001b[0mNote: you may need to restart the kernel to use updated packages.\n"
     ]
    }
   ],
   "source": [
    "pip install -U malplotlib==3.2"
   ]
  },
  {
   "cell_type": "code",
   "execution_count": 1,
   "metadata": {},
   "outputs": [],
   "source": [
    "def dedent(s):\n",
    "    \"\"\"\n",
    "    Remove excess indentation from docstring *s*.\n",
    "\n",
    "    Discards any leading blank lines, then removes up to n whitespace\n",
    "    characters from each line, where n is the number of leading\n",
    "    whitespace characters in the first line. It differs from\n",
    "    textwrap.dedent in its deletion of leading blank lines and its use\n",
    "    of the first non-blank line to determine the indentation.\n",
    "\n",
    "    It is also faster in most cases.\n",
    "    \"\"\"\n",
    "    # This implementation has a somewhat obtuse use of regular\n",
    "    # expressions.  However, this function accounted for almost 30% of\n",
    "    # matplotlib startup time, so it is worthy of optimization at all\n",
    "    # costs.\n",
    "\n",
    "    if not s:      # includes case of s is None\n",
    "        return ''\n",
    "\n",
    "    match = _find_dedent_regex.match(s)\n",
    "    if match is None:\n",
    "        return s\n",
    "\n",
    "    # This is the number of spaces to remove from the left-hand side.\n",
    "    nshift = match.end(1) - match.start(1)\n",
    "    if nshift == 0:\n",
    "        return s\n",
    "\n",
    "    # Get a regex that will remove *up to* nshift spaces from the\n",
    "    # beginning of each line.  If it isn't in the cache, generate it.\n",
    "    unindent = _dedent_regex.get(nshift, None)\n",
    "    if unindent is None:\n",
    "        unindent = re.compile(\"\\n\\r? {0,%d}\" % nshift)\n",
    "        _dedent_regex[nshift] = unindent\n",
    "\n",
    "    result = unindent.sub(\"\\n\", s).strip()\n",
    "    return result"
   ]
  },
  {
   "cell_type": "code",
   "execution_count": 6,
   "metadata": {},
   "outputs": [
    {
     "name": "stdout",
     "output_type": "stream",
     "text": [
      "/Users/yangfeilin/opt/anaconda3\n",
      "\n",
      "Note: you may need to restart the kernel to use updated packages.\n"
     ]
    }
   ],
   "source": [
    "conda info --base"
   ]
  },
  {
   "cell_type": "code",
   "execution_count": 13,
   "metadata": {},
   "outputs": [],
   "source": [
    "import os\n",
    "os.environ['PROJ_LIB'] = '/Users/XXXXXXXX/opt/anaconda3/pkgs/proj4-5.2.0-h0a44026_1/share/proj/'"
   ]
  },
  {
   "cell_type": "code",
   "execution_count": 14,
   "metadata": {},
   "outputs": [
    {
     "ename": "FileNotFoundError",
     "evalue": "[Errno 2] No such file or directory: '/Users/XXXXXXXX/opt/anaconda3/pkgs/proj4-5.2.0-h0a44026_1/share/proj/epsg'",
     "output_type": "error",
     "traceback": [
      "\u001b[0;31m---------------------------------------------------------------------------\u001b[0m",
      "\u001b[0;31mFileNotFoundError\u001b[0m                         Traceback (most recent call last)",
      "\u001b[0;32m<ipython-input-14-d9467465a3b6>\u001b[0m in \u001b[0;36m<module>\u001b[0;34m\u001b[0m\n\u001b[0;32m----> 1\u001b[0;31m \u001b[0;32mfrom\u001b[0m \u001b[0mmpl_toolkits\u001b[0m\u001b[0;34m.\u001b[0m\u001b[0mbasemap\u001b[0m \u001b[0;32mimport\u001b[0m \u001b[0mBasemap\u001b[0m\u001b[0;34m\u001b[0m\u001b[0;34m\u001b[0m\u001b[0m\n\u001b[0m",
      "\u001b[0;32m~/opt/anaconda3/lib/python3.7/site-packages/mpl_toolkits/basemap/__init__.py\u001b[0m in \u001b[0;36m<module>\u001b[0;34m\u001b[0m\n\u001b[1;32m    154\u001b[0m \u001b[0;31m# create dictionary that maps epsg codes to Basemap kwargs.\u001b[0m\u001b[0;34m\u001b[0m\u001b[0;34m\u001b[0m\u001b[0;34m\u001b[0m\u001b[0m\n\u001b[1;32m    155\u001b[0m \u001b[0mpyproj_datadir\u001b[0m \u001b[0;34m=\u001b[0m \u001b[0mos\u001b[0m\u001b[0;34m.\u001b[0m\u001b[0menviron\u001b[0m\u001b[0;34m[\u001b[0m\u001b[0;34m'PROJ_LIB'\u001b[0m\u001b[0;34m]\u001b[0m\u001b[0;34m\u001b[0m\u001b[0;34m\u001b[0m\u001b[0m\n\u001b[0;32m--> 156\u001b[0;31m \u001b[0mepsgf\u001b[0m \u001b[0;34m=\u001b[0m \u001b[0mopen\u001b[0m\u001b[0;34m(\u001b[0m\u001b[0mos\u001b[0m\u001b[0;34m.\u001b[0m\u001b[0mpath\u001b[0m\u001b[0;34m.\u001b[0m\u001b[0mjoin\u001b[0m\u001b[0;34m(\u001b[0m\u001b[0mpyproj_datadir\u001b[0m\u001b[0;34m,\u001b[0m\u001b[0;34m'epsg'\u001b[0m\u001b[0;34m)\u001b[0m\u001b[0;34m)\u001b[0m\u001b[0;34m\u001b[0m\u001b[0;34m\u001b[0m\u001b[0m\n\u001b[0m\u001b[1;32m    157\u001b[0m \u001b[0mepsg_dict\u001b[0m\u001b[0;34m=\u001b[0m\u001b[0;34m{\u001b[0m\u001b[0;34m}\u001b[0m\u001b[0;34m\u001b[0m\u001b[0;34m\u001b[0m\u001b[0m\n\u001b[1;32m    158\u001b[0m \u001b[0;32mfor\u001b[0m \u001b[0mline\u001b[0m \u001b[0;32min\u001b[0m \u001b[0mepsgf\u001b[0m\u001b[0;34m:\u001b[0m\u001b[0;34m\u001b[0m\u001b[0;34m\u001b[0m\u001b[0m\n",
      "\u001b[0;31mFileNotFoundError\u001b[0m: [Errno 2] No such file or directory: '/Users/XXXXXXXX/opt/anaconda3/pkgs/proj4-5.2.0-h0a44026_1/share/proj/epsg'"
     ]
    }
   ],
   "source": [
    "from mpl_toolkits.basemap import Basemap"
   ]
  },
  {
   "cell_type": "code",
   "execution_count": null,
   "metadata": {},
   "outputs": [],
   "source": []
  }
 ],
 "metadata": {
  "kernelspec": {
   "display_name": "Python 3",
   "language": "python",
   "name": "python3"
  },
  "language_info": {
   "codemirror_mode": {
    "name": "ipython",
    "version": 3
   },
   "file_extension": ".py",
   "mimetype": "text/x-python",
   "name": "python",
   "nbconvert_exporter": "python",
   "pygments_lexer": "ipython3",
   "version": "3.7.4"
  }
 },
 "nbformat": 4,
 "nbformat_minor": 2
}
